{
 "cells": [
  {
   "cell_type": "markdown",
   "metadata": {
    "collapsed": true
   },
   "source": [
    "# My Jupyter Notebook on IBM Data Science Experience"
   ]
  },
  {
   "cell_type": "markdown",
   "metadata": {},
   "source": [
    "**Saniarily**  \n",
    "Data Scientist"
   ]
  },
  {
   "cell_type": "markdown",
   "metadata": {},
   "source": [
    "_I am interested in data science because it gives me passion to explore the world and unlock some insights via data._"
   ]
  },
  {
   "cell_type": "markdown",
   "metadata": {},
   "source": [
    "### In my following code, I will define some variables, and do some simple maths."
   ]
  },
  {
   "cell_type": "code",
   "execution_count": 9,
   "metadata": {},
   "outputs": [
    {
     "name": "stdout",
     "output_type": "stream",
     "text": [
      "9\n",
      "18\n",
      "3\n",
      "2.0\n"
     ]
    }
   ],
   "source": [
    "x = 3\n",
    "y = 6\n",
    "\n",
    "z1 = x + y\n",
    "z2 = x * y\n",
    "z3 = y - x\n",
    "z4 = y / x\n",
    "\n",
    "print(z1)\n",
    "print(z2)\n",
    "print(z3)\n",
    "print(z4)"
   ]
  },
  {
   "cell_type": "markdown",
   "metadata": {},
   "source": [
    "---\n",
    "\n",
    ">The following is a **table** comparing 3 tools that introduced in this course:  \n",
    "\n",
    "| Name of Tools         | Supported Iterpreter                   | Format |\n",
    "| ------------------------- | ----------------------------------------------- | ------ |\n",
    "| Jupyter Notebook       | Python, Scala, R                      | .ipynb |\n",
    "| Apache Zeppelin Notebook  | Apache Spark, Python, JDBC, Markdown and Shell  | .JSON  |\n",
    "| RStudio IDE           | R only                            | .R    |\n",
    "\n",
    "---\n",
    "\n",
    ">The following is a **bulleted list** of popular data science tools:  \n",
    "\n",
    "- RStudio IDE\n",
    "- Jupyter Notebooks\n",
    "- Apache Zeppelin\n",
    "- Open Refine\n",
    "- SeaHorse\n",
    "\n",
    "---\n",
    "\n",
    ">The following is a sentence with **strikethrough**:  \n",
    "\n",
    "~~Today is a sunny day.~~ No, it is raining outside.\n",
    "\n",
    "---\n",
    "\n",
    "_**P.S.**  **Horizontal rule** and **Blockquotes** were also used in this cell._"
   ]
  },
  {
   "cell_type": "code",
   "execution_count": null,
   "metadata": {},
   "outputs": [],
   "source": []
  }
 ],
 "metadata": {
  "kernelspec": {
   "display_name": "Python 3.5",
   "language": "python",
   "name": "python3"
  },
  "language_info": {
   "codemirror_mode": {
    "name": "ipython",
    "version": 3
   },
   "file_extension": ".py",
   "mimetype": "text/x-python",
   "name": "python",
   "nbconvert_exporter": "python",
   "pygments_lexer": "ipython3",
   "version": "3.5.5"
  }
 },
 "nbformat": 4,
 "nbformat_minor": 1
}
